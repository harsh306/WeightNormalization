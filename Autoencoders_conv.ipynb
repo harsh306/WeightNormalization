{
 "cells": [
  {
   "cell_type": "code",
   "execution_count": 1,
   "metadata": {},
   "outputs": [
    {
     "name": "stderr",
     "output_type": "stream",
     "text": [
      "/Users/hpathak/anaconda3/lib/python3.6/site-packages/h5py/__init__.py:36: FutureWarning: Conversion of the second argument of issubdtype from `float` to `np.floating` is deprecated. In future, it will be treated as `np.float64 == np.dtype(float).type`.\n",
      "  from ._conv import register_converters as _register_converters\n"
     ]
    }
   ],
   "source": [
    "%matplotlib inline\n",
    "\n",
    "import numpy as np\n",
    "import tensorflow as tf\n",
    "import matplotlib.pyplot as plt"
   ]
  },
  {
   "cell_type": "code",
   "execution_count": 2,
   "metadata": {},
   "outputs": [
    {
     "name": "stdout",
     "output_type": "stream",
     "text": [
      "WARNING:tensorflow:From <ipython-input-2-8c515496db61>:2: read_data_sets (from tensorflow.contrib.learn.python.learn.datasets.mnist) is deprecated and will be removed in a future version.\n",
      "Instructions for updating:\n",
      "Please use alternatives such as official/mnist/dataset.py from tensorflow/models.\n",
      "WARNING:tensorflow:From /Users/hpathak/anaconda3/lib/python3.6/site-packages/tensorflow/contrib/learn/python/learn/datasets/mnist.py:260: maybe_download (from tensorflow.contrib.learn.python.learn.datasets.base) is deprecated and will be removed in a future version.\n",
      "Instructions for updating:\n",
      "Please write your own downloading logic.\n",
      "WARNING:tensorflow:From /Users/hpathak/anaconda3/lib/python3.6/site-packages/tensorflow/contrib/learn/python/learn/datasets/mnist.py:262: extract_images (from tensorflow.contrib.learn.python.learn.datasets.mnist) is deprecated and will be removed in a future version.\n",
      "Instructions for updating:\n",
      "Please use tf.data to implement this functionality.\n",
      "Extracting MNIST_data/train-images-idx3-ubyte.gz\n",
      "WARNING:tensorflow:From /Users/hpathak/anaconda3/lib/python3.6/site-packages/tensorflow/contrib/learn/python/learn/datasets/mnist.py:267: extract_labels (from tensorflow.contrib.learn.python.learn.datasets.mnist) is deprecated and will be removed in a future version.\n",
      "Instructions for updating:\n",
      "Please use tf.data to implement this functionality.\n",
      "Extracting MNIST_data/train-labels-idx1-ubyte.gz\n",
      "Extracting MNIST_data/t10k-images-idx3-ubyte.gz\n",
      "Extracting MNIST_data/t10k-labels-idx1-ubyte.gz\n",
      "WARNING:tensorflow:From /Users/hpathak/anaconda3/lib/python3.6/site-packages/tensorflow/contrib/learn/python/learn/datasets/mnist.py:290: DataSet.__init__ (from tensorflow.contrib.learn.python.learn.datasets.mnist) is deprecated and will be removed in a future version.\n",
      "Instructions for updating:\n",
      "Please use alternatives such as official/mnist/dataset.py from tensorflow/models.\n"
     ]
    }
   ],
   "source": [
    "from tensorflow.examples.tutorials.mnist import input_data\n",
    "mnist = input_data.read_data_sets('MNIST_data', validation_size=0)"
   ]
  },
  {
   "cell_type": "code",
   "execution_count": 3,
   "metadata": {},
   "outputs": [],
   "source": [
    "epochs =1 #change the number\n",
    "batch_size=200\n",
    "learning_rate = 0.001\n",
    "pr_type = 32\n",
    "max_pool = True\n",
    "if pr_type == 32:\n",
    "    dType = tf.float32\n",
    "else:\n",
    "    dType = tf.float16"
   ]
  },
  {
   "cell_type": "markdown",
   "metadata": {},
   "source": [
    "### CNN AUTOENCODER NO NORM"
   ]
  },
  {
   "cell_type": "raw",
   "metadata": {},
   "source": [
    "\n",
    "tf.reset_default_graph()\n",
    "g1 = tf.Graph()\n",
    "\n",
    "with g1.as_default():\n",
    "    # Input and target placeholders\n",
    "    inputs_ = tf.placeholder(dtype=dType, shape=(None, 28,28,1), name= 'inputs')\n",
    "    targets_ = tf.placeholder(dtype=dType, shape=(None, 28,28,1) , name='targets')\n",
    "\n",
    "\n",
    "    w1 = tf.get_variable(name='W1',shape=[3,3,1,16],dtype=dType,initializer=tf.contrib.layers.xavier_initializer())    \n",
    "    w2 = tf.get_variable(name='W2',shape=[3,3,16,8],dtype=dType,initializer=tf.contrib.layers.xavier_initializer())    \n",
    "    w3 = tf.get_variable(name='W3',shape=[3,3,8,8],dtype=dType,initializer=tf.contrib.layers.xavier_initializer())    \n",
    "    w4 = tf.get_variable(name='W4',shape=[3,3,8,8],dtype=dType,initializer=tf.contrib.layers.xavier_initializer())    \n",
    "    w5 = tf.get_variable(name='W5',shape=[3,3,8,8],dtype=dType,initializer=tf.contrib.layers.xavier_initializer())    \n",
    "    w6 = tf.get_variable(name='W6',shape=[3,3,8,16],dtype=dType,initializer=tf.contrib.layers.xavier_initializer()) \n",
    "    logit_w = tf.get_variable(name='logit_w',shape=[3,3,16,1],dtype=dType,initializer=tf.contrib.layers.xavier_initializer())    \n",
    "\n",
    "\n",
    "\n",
    "\n",
    "\n",
    "    conv1 = tf.nn.conv2d(input=inputs_,filter=w1,strides=[1,2,2,1], padding='SAME', name='conv1')\n",
    "    conv1 = tf.nn.relu(conv1)\n",
    "    \n",
    "\n",
    "\n",
    "    max_pool1 = tf.nn.max_pool(value=conv1,ksize=[1,2,2,1], strides=[1,2,2,1],padding='SAME', name='maxpool1')\n",
    "    conv2 = tf.nn.conv2d(input=max_pool1, filter=w2, strides=[1,2,2,1], padding='SAME', name='conv2')\n",
    "    conv2 = tf.nn.relu(conv2)\n",
    "    \n",
    "    max_pool2 = tf.nn.max_pool(value=conv2,ksize=[1,2,2,1], strides=[1,2,2,1],padding='SAME', name='maxpool2')\n",
    "    conv3 = tf.nn.conv2d(input=max_pool2, filter=w3, strides=[1,2,2,1], padding='SAME', name='conv3')\n",
    "    conv3 = tf.nn.relu(conv3)\n",
    "\n",
    "    encoded = tf.nn.max_pool(value=conv3, ksize=[1,2,2,1],strides=[1,2,2,1],padding='SAME',name='encoded')\n",
    "\n",
    "\n",
    "    upsample1 = tf.image.resize_nearest_neighbor(encoded, size=(7,7), name='upsample1')\n",
    "    conv4 = tf.nn.conv2d(input=upsample1, filter=w4,strides=[1,1,1,1] ,  padding='SAME', name='conv4')\n",
    "    conv4 = tf.nn.relu(conv4)\n",
    "\n",
    "    upsample2 = tf.image.resize_nearest_neighbor(conv4, size=(14,14), name='upsample2')\n",
    "    conv5 = tf.nn.conv2d(input=upsample2, filter=w5,strides=[1,1,1,1], padding='SAME', name = 'conv5')\n",
    "    conv5 = tf.nn.relu(conv5)\n",
    "\n",
    "    upsample3 = tf.image.resize_nearest_neighbor(conv5, size=(28,28), name='upsample3')\n",
    "    conv6 = tf.nn.conv2d(input=upsample3, filter=w6, strides=[1,1,1,1], padding='SAME', name='conv5')\n",
    "    conv6 = tf.nn.relu(conv6)\n",
    "\n",
    "    logits = tf.nn.conv2d(input=conv6, filter=logit_w,strides=[1,1,1,1] ,padding='SAME')\n",
    "\n",
    "    decoded = tf.nn.sigmoid(logits,name='decoded')\n",
    "\n",
    "    loss = tf.nn.sigmoid_cross_entropy_with_logits(labels=targets_, logits=logits)\n",
    "    cost = tf.reduce_mean(loss)\n",
    "    opt = tf.train.AdamOptimizer(learning_rate).minimize(cost)\n",
    "    init = tf.global_variables_initializer()\n",
    "\n"
   ]
  },
  {
   "cell_type": "raw",
   "metadata": {},
   "source": [
    "tf.reset_default_graph()\n",
    "sess = tf.Session(graph=g1)"
   ]
  },
  {
   "cell_type": "raw",
   "metadata": {},
   "source": [
    "%%time\n",
    "\n",
    "\n",
    "sess.run(init)\n",
    "for e in range(epochs):\n",
    "    for ii in range(mnist.train.num_examples//batch_size):\n",
    "        batch = mnist.train.next_batch(batch_size)\n",
    "        imgs = batch[0].reshape((-1, 28, 28, 1))\n",
    "        batch_cost, _ = sess.run([cost, opt], feed_dict={inputs_: imgs,\n",
    "                                                         targets_: imgs})\n",
    "        if (ii % 20) ==0 :\n",
    "            print(\"Epoch: {}/{}...\".format(e+1, epochs),\n",
    "              \"Training loss: {:.4f}\".format(batch_cost))"
   ]
  },
  {
   "cell_type": "raw",
   "metadata": {},
   "source": [
    "\n",
    "fig, axes = plt.subplots(nrows=2, ncols=10, sharex=True, sharey=True, figsize=(20,4))\n",
    "in_imgs = mnist.test.images[:10]\n",
    "reconstructed = sess.run(decoded, feed_dict={inputs_: in_imgs.reshape((10, 28, 28, 1))})\n",
    "\n",
    "for images, row in zip([in_imgs, reconstructed], axes):\n",
    "    for img, ax in zip(images, row):\n",
    "        ax.imshow(img.reshape((28, 28)), cmap='Greys_r')\n",
    "        ax.get_xaxis().set_visible(False)\n",
    "        ax.get_yaxis().set_visible(False)\n",
    "\n",
    "\n",
    "fig.tight_layout(pad=0.1)"
   ]
  },
  {
   "cell_type": "markdown",
   "metadata": {},
   "source": [
    "### Weight Normalized Auto encoder\n",
    "#### Only Weights - data independent\n"
   ]
  },
  {
   "cell_type": "raw",
   "metadata": {},
   "source": [
    "def get_normed_weights(shape, axis=None, name=None, return_all=True,\n",
    "                       reuse=None,\n",
    "                       init=tf.random_normal_initializer(stddev=0.05)):\n",
    "    \"\"\"\n",
    "    Returns a normalised tensor of the given shape.\n",
    "    Args:\n",
    "      shape: the shape of the desired weights. At the moment we assume\n",
    "        this is [num_inputs x num_outputs] and we have a gain/scale per\n",
    "        output.\n",
    "      axis: the axis or axes over which to normalise. If None (default), then\n",
    "        each element is divided by the norm of the entire tensor.\n",
    "      scope: scope in which to get the variables required. Defaults to None,\n",
    "        which means `weightnorm` will be used.\n",
    "      return_all: if true, returns the allocated trainable variable as well as\n",
    "        the resulting weights.\n",
    "      reuse: whether or not to attempt to reuse variables. Default is False.\n",
    "      init: the initializer to use to initialise the variables. Defaults to the\n",
    "        values from the paper, ie. normally distributed with mean 0 and\n",
    "        standard deviation 0.05.\n",
    "    Returns:\n",
    "      - if `return_all` is true it will return `(w, g, v)` where `w` is the\n",
    "          required weights, `g` and `v` are the scale and the unnormalised\n",
    "          weights respectively.\n",
    "      - otherwise, just return `w`.\n",
    "    \"\"\"\n",
    "    v = tf.get_variable(name=name, shape=shape, dtype=tf.float32, initializer=init)\n",
    "    g = tf.get_variable(name=name+'g', shape=shape[-1], initializer=tf.constant_initializer(1),trainable=False)\n",
    "    \n",
    "    inv_norm = tf.rsqrt(tf.reduce_sum(tf.square(v), reduction_indices=axis))\n",
    "    w = v * g * inv_norm\n",
    "    return w\n"
   ]
  },
  {
   "cell_type": "raw",
   "metadata": {},
   "source": [
    "learning_rate = 0.001\n",
    "pr_type = 32\n",
    "max_pool = True\n",
    "\n",
    "if pr_type == 32:\n",
    "    dType = tf.float32\n",
    "else:\n",
    "    dType = tf.float16\n",
    "\n",
    "tf.reset_default_graph()\n",
    "g2 = tf.Graph()\n",
    "\n",
    "\n",
    "with g2.as_default():\n",
    "    # Input and target placeholders\n",
    "    inputs_ = tf.placeholder(dtype=dType, shape=(None, 28,28,1), name= 'inputs')\n",
    "    targets_ = tf.placeholder(dtype=dType, shape=(None, 28,28,1) , name='targets')\n",
    "\n",
    "\n",
    "    #w1 = tf.get_variable(name='W1',shape=,dtype=dType,initializer=tf.contrib.layers.xavier_initializer())    \n",
    "    w1 = get_normed_weights(shape=[3,3,1,16], axis=[0,1,2],name='W1', init=tf.contrib.layers.xavier_initializer())\n",
    "    \n",
    "    #w2 = tf.get_variable(name='W2',shape=[3,3,16,8],dtype=dType,)    \n",
    "    w2 = get_normed_weights(shape=[3,3,16,8], axis=[0,1,2],name='W2', init=tf.contrib.layers.xavier_initializer())\n",
    "    \n",
    "    #w3 = tf.get_variable(name='W3',shape=[3,3,8,8],dtype=dType,initializer=tf.contrib.layers.xavier_initializer())    \n",
    "    w3 = get_normed_weights(shape=[3,3,8,8], axis=[0,1,2],name='W3', init=tf.contrib.layers.xavier_initializer())\n",
    "    \n",
    "    #w4 = tf.get_variable(name='W4',shape=[3,3,8,8],dtype=dType,initializer=tf.contrib.layers.xavier_initializer())    \n",
    "    w4 = get_normed_weights(shape=[3,3,8,8], axis=[0,1,2],name='W4', init=tf.contrib.layers.xavier_initializer())\n",
    "    \n",
    "    #w5 = tf.get_variable(name='W5',shape=[3,3,8,8],dtype=dType,initializer=tf.contrib.layers.xavier_initializer())    \n",
    "    w5 = get_normed_weights(shape=[3,3,8,8], axis=[0,1,2],name='W5', init=tf.contrib.layers.xavier_initializer())\n",
    "    \n",
    "    #w6 = tf.get_variable(name='W6',shape=[3,3,8,16],dtype=dType,initializer=tf.contrib.layers.xavier_initializer()) \n",
    "    w6 = get_normed_weights(shape=[3,3,8,16], axis=[0,1,2],name='W6', init=tf.contrib.layers.xavier_initializer())\n",
    "    \n",
    "    logit_w = tf.get_variable(name='logit_w',shape=[3,3,16,1],dtype=dType,initializer=tf.contrib.layers.xavier_initializer())    \n",
    "\n",
    "\n",
    "\n",
    "\n",
    "\n",
    "    conv1 = tf.nn.conv2d(input=inputs_,filter=w1,strides=[1,2,2,1], padding='SAME', name='conv1')\n",
    "    \n",
    "    #conv1 = wnconv(x=inputs_, filter_size=[3,3,1,16], strides=[1,2,2,1], padding=\"SAME\", name='conv1', init=True)\n",
    "    conv1 = tf.nn.relu(conv1)\n",
    "    \n",
    "\n",
    "\n",
    "    max_pool1 = tf.nn.max_pool(value=conv1,ksize=[1,2,2,1], strides=[1,2,2,1],padding='SAME', name='maxpool1')\n",
    "    conv2 = tf.nn.conv2d(input=max_pool1, filter=w2, strides=[1,2,2,1], padding='SAME', name='conv2')\n",
    "    conv2 = tf.nn.relu(conv2)\n",
    "    \n",
    "    max_pool2 = tf.nn.max_pool(value=conv2,ksize=[1,2,2,1], strides=[1,2,2,1],padding='SAME', name='maxpool2')\n",
    "    conv3 = tf.nn.conv2d(input=max_pool2, filter=w3, strides=[1,2,2,1], padding='SAME', name='conv3')\n",
    "    conv3 = tf.nn.relu(conv3)\n",
    "\n",
    "    encoded = tf.nn.max_pool(value=conv3, ksize=[1,2,2,1],strides=[1,2,2,1],padding='SAME',name='encoded')\n",
    "\n",
    "\n",
    "    upsample1 = tf.image.resize_nearest_neighbor(encoded, size=(7,7), name='upsample1')\n",
    "    conv4 = tf.nn.conv2d(input=upsample1, filter=w4,strides=[1,1,1,1] ,  padding='SAME', name='conv4')\n",
    "    conv4 = tf.nn.relu(conv4)\n",
    "\n",
    "    upsample2 = tf.image.resize_nearest_neighbor(conv4, size=(14,14), name='upsample2')\n",
    "    conv5 = tf.nn.conv2d(input=upsample2, filter=w5,strides=[1,1,1,1], padding='SAME', name = 'conv5')\n",
    "    conv5 = tf.nn.relu(conv5)\n",
    "\n",
    "    upsample3 = tf.image.resize_nearest_neighbor(conv5, size=(28,28), name='upsample3')\n",
    "    conv6 = tf.nn.conv2d(input=upsample3, filter=w6, strides=[1,1,1,1], padding='SAME', name='conv5')\n",
    "    conv6 = tf.nn.relu(conv6)\n",
    "\n",
    "    logits = tf.nn.conv2d(input=conv6, filter=logit_w,strides=[1,1,1,1] ,padding='SAME')\n",
    "\n",
    "    decoded = tf.nn.sigmoid(logits,name='decoded')\n",
    "\n",
    "    loss = tf.nn.sigmoid_cross_entropy_with_logits(labels=targets_, logits=logits)\n",
    "    cost = tf.reduce_mean(loss)\n",
    "    opt = tf.train.AdamOptimizer(learning_rate).minimize(cost)\n",
    "    init = tf.global_variables_initializer()\n",
    "\n",
    "\n"
   ]
  },
  {
   "cell_type": "markdown",
   "metadata": {},
   "source": [
    "#### Data Dependet Parameter initialization"
   ]
  },
  {
   "cell_type": "code",
   "execution_count": 24,
   "metadata": {},
   "outputs": [],
   "source": [
    "# def get_var_maybe_avg(var_name, ema, **kwargs):\n",
    "#     ''' utility for retrieving polyak averaged params '''\n",
    "#     v = tf.get_variable(var_name, **kwargs)\n",
    "#     if ema is not None:\n",
    "#         v = ema.average(v)\n",
    "#     return v\n",
    "\n",
    "# def get_vars_maybe_avg(var_names, ema, **kwargs):\n",
    "#     ''' utility for retrieving polyak averaged params '''\n",
    "#     vars = []\n",
    "#     for vn in var_names:\n",
    "#         vars.append(get_var_maybe_avg(vn, ema, **kwargs))\n",
    "#     return vars\n",
    "\n",
    "# def get_name(layer_name, counters):\n",
    "#     ''' utlity for keeping track of layer names '''\n",
    "#     if not layer_name in counters:\n",
    "#         counters[layer_name] = 0\n",
    "#     name = layer_name + '_' + str(counters[layer_name])\n",
    "#     counters[layer_name] += 1\n",
    "#     return name\n",
    "#\n",
    "#input=inputs_,filter=w1,strides=[1,2,2,1], padding='SAME', name='conv1'\n",
    "#\n",
    "def wnconv2d(x, filter_size, name ,strides=[1,2,2,1], padding='SAME', init_scale=1.0, init=True):\n",
    "    ''' convolutional layer '''\n",
    "    #name = get_name('conv2d', counters)\n",
    "    with tf.variable_scope(name):\n",
    "        if init:\n",
    "            # data based initialization of parameters\n",
    "            V = tf.get_variable(name=name, shape=filter_size, dtype=tf.float32, initializer=tf.contrib.layers.xavier_initializer(), trainable=True)\n",
    "            V_norm = tf.nn.l2_normalize(x=V.initialized_value(),axis=[0,1,2])\n",
    "            x_init = tf.nn.conv2d(input=x, filter=V_norm,strides=strides , padding=padding)\n",
    "            m_init, v_init = tf.nn.moments(x_init, [0,1,2])\n",
    "            scale_init = init_scale/tf.sqrt(v_init + 1e-8)\n",
    "            \n",
    "            #g = tf.get_variable(name+'g', dtype=tf.float32, initializer=scale_init, trainable=True)\n",
    "            #b = tf.get_variable(name+'b', dtype=tf.float32, initializer=-m_init*scale_init, trainable=True)\n",
    "            \n",
    "            x_init = tf.reshape(scale_init,[1,1,1,filter_size[-1]])*(x_init-tf.reshape(m_init,[1,1,1,filter_size[-1]]))\n",
    "            return tf.cast(x_init, tf.float32)\n",
    "\n",
    "#         else:\n",
    "#             V, g, b = get_vars_maybe_avg(['V', 'g', 'b'], ema)\n",
    "#             tf.assert_variables_initialized([V,g,b])\n",
    "\n",
    "#             # use weight normalization (Salimans & Kingma, 2016)\n",
    "#             W = tf.reshape(g,[1,1,1,num_filters])*tf.nn.l2_normalize(V,[0,1,2])\n",
    "\n",
    "#             # calculate convolutional layer output\n",
    "#             x = tf.nn.bias_add(tf.nn.conv2d(x, W, [1]+stride+[1], pad), b)\n",
    "\n",
    "        \n",
    "#             return x\n"
   ]
  },
  {
   "cell_type": "code",
   "execution_count": 25,
   "metadata": {},
   "outputs": [],
   "source": [
    "\n",
    "\n",
    "g3 = tf.Graph()\n",
    "\n",
    "\n",
    "with g3.as_default():\n",
    "    # Input and target placeholders\n",
    "    \n",
    "    inputs_ = tf.placeholder(dtype=tf.float32, shape=(None,28,28,1), name='inputs_')\n",
    "    targets_ = tf.placeholder(dtype=tf.float32, shape=(None, 28,28,1) , name='targets_')\n",
    "\n",
    "\n",
    "    logit_w = tf.get_variable(name='logit_w',shape=[3,3,16,1],dtype=tf.float32,initializer=tf.contrib.layers.xavier_initializer())    \n",
    "\n",
    "\n",
    "    \n",
    "    conv1 = wnconv2d(x=inputs_, filter_size=[3,3,1,16], name='conv1',strides=[1,2,2,1], padding=\"SAME\",  init=True)\n",
    "    conv1 = tf.nn.relu(conv1)\n",
    "    \n",
    "    max_pool1 = tf.nn.max_pool(value=conv1,ksize=[1,2,2,1], strides=[1,2,2,1],padding='SAME', name='maxpool1')\n",
    "    conv2 = wnconv2d(x=max_pool1, filter_size=[3,3,16,8], name='conv2',strides=[1,2,2,1], padding=\"SAME\",  init=True)\n",
    "    conv2 = tf.nn.relu(conv2)\n",
    "    \n",
    "    max_pool2 = tf.nn.max_pool(value=conv2,ksize=[1,2,2,1], strides=[1,2,2,1],padding='SAME', name='maxpool2')\n",
    "    conv3 = wnconv2d(x=max_pool2, filter_size=[3,3,8,8], name='conv3',strides=[1,2,2,1], padding=\"SAME\",  init=True)\n",
    "    conv3 = tf.nn.relu(conv3)\n",
    "\n",
    "    encoded = tf.nn.max_pool(value=conv3, ksize=[1,2,2,1],strides=[1,2,2,1],padding='SAME',name='encoded')\n",
    "\n",
    "\n",
    "    upsample1 = tf.image.resize_nearest_neighbor(encoded, size=(7,7), name='upsample1')\n",
    "    conv4 = wnconv2d(x=encoded, filter_size=[3,3,8,8], name='conv4',strides=[1,2,2,1], padding=\"SAME\",  init=True)\n",
    "    conv4 = tf.nn.relu(conv4)\n",
    "\n",
    "    upsample2 = tf.image.resize_nearest_neighbor(conv4, size=(14,14), name='upsample2')\n",
    "    conv5 = wnconv2d(x=upsample2, filter_size=[3,3,8,8], name='conv5',strides=[1,1,1,1], padding=\"SAME\",  init=True)\n",
    "    conv5 = tf.nn.relu(conv5)\n",
    "\n",
    "    upsample3 = tf.image.resize_nearest_neighbor(conv5, size=(28,28), name='upsample3')\n",
    "    conv6 = wnconv2d(x=upsample3, filter_size=[3,3,8,16], name='conv6',strides=[1,1,1,1], padding=\"SAME\",  init=True)\n",
    "    conv6 = tf.nn.relu(conv6)\n",
    "\n",
    "    logits = tf.nn.conv2d(input=conv6, filter=logit_w,strides=[1,1,1,1] ,padding='SAME', name='logits')\n",
    "\n",
    "    decoded = tf.nn.sigmoid(logits,name='decoded')\n",
    "\n",
    "    loss = tf.nn.sigmoid_cross_entropy_with_logits(labels=targets_, logits=logits)\n",
    "    cost = tf.reduce_mean(loss)\n",
    "    opt = tf.train.AdamOptimizer(learning_rate).minimize(cost)\n",
    "    init_ = tf.global_variables_initializer()\n",
    "\n",
    "\n",
    "\n"
   ]
  },
  {
   "cell_type": "code",
   "execution_count": 26,
   "metadata": {},
   "outputs": [],
   "source": [
    "tf.reset_default_graph()\n",
    "sess = tf.Session(graph=g3)"
   ]
  },
  {
   "cell_type": "code",
   "execution_count": 29,
   "metadata": {},
   "outputs": [
    {
     "name": "stdout",
     "output_type": "stream",
     "text": [
      "Epoch: 1/5... Training loss: 0.8073\n",
      "Epoch: 1/5... Training loss: 0.3477\n",
      "Epoch: 1/5... Training loss: 0.3198\n",
      "Epoch: 1/5... Training loss: 0.3126\n",
      "Epoch: 1/5... Training loss: 0.3012\n",
      "Epoch: 1/5... Training loss: 0.2999\n",
      "Epoch: 2/5... Training loss: 0.3038\n",
      "Epoch: 2/5... Training loss: 0.3024\n",
      "Epoch: 2/5... Training loss: 0.2904\n",
      "Epoch: 2/5... Training loss: 0.2923\n",
      "Epoch: 2/5... Training loss: 0.2996\n",
      "Epoch: 2/5... Training loss: 0.2960\n",
      "Epoch: 3/5... Training loss: 0.2925\n",
      "Epoch: 3/5... Training loss: 0.2936\n",
      "Epoch: 3/5... Training loss: 0.2981\n",
      "Epoch: 3/5... Training loss: 0.2883\n",
      "Epoch: 3/5... Training loss: 0.2964\n",
      "Epoch: 3/5... Training loss: 0.2977\n",
      "Epoch: 4/5... Training loss: 0.2936\n",
      "Epoch: 4/5... Training loss: 0.2924\n",
      "Epoch: 4/5... Training loss: 0.2959\n",
      "Epoch: 4/5... Training loss: 0.2956\n",
      "Epoch: 4/5... Training loss: 0.2966\n",
      "Epoch: 4/5... Training loss: 0.2912\n",
      "Epoch: 5/5... Training loss: 0.2952\n",
      "Epoch: 5/5... Training loss: 0.2934\n",
      "Epoch: 5/5... Training loss: 0.2919\n",
      "Epoch: 5/5... Training loss: 0.2881\n",
      "Epoch: 5/5... Training loss: 0.2894\n",
      "Epoch: 5/5... Training loss: 0.2890\n",
      "CPU times: user 18min 56s, sys: 9min 28s, total: 28min 25s\n",
      "Wall time: 6min 22s\n"
     ]
    }
   ],
   "source": [
    "%%time\n",
    "epochs =5\n",
    "batch_size=200\n",
    "sess.run(init_)\n",
    "\n",
    "\n",
    "for e in range(epochs):\n",
    "    for ii in range(mnist.train.num_examples//batch_size):\n",
    "        batch = mnist.train.next_batch(batch_size)\n",
    "        imgs = batch[0].reshape((-1, 28, 28, 1))\n",
    "        batch_cost, _ = sess.run([cost, opt], feed_dict={inputs_: imgs ,targets_: imgs})\n",
    "        if (ii % 50) ==0 :\n",
    "            print(\"Epoch: {}/{}...\".format(e+1, epochs),\n",
    "              \"Training loss: {:.4f}\".format(batch_cost))"
   ]
  },
  {
   "cell_type": "code",
   "execution_count": 30,
   "metadata": {},
   "outputs": [
    {
     "data": {
      "image/png": "[encoded data removed]",
      "text/plain": [
       "<matplotlib.figure.Figure at 0x1c2e8555f8>"
      ]
     },
     "metadata": {},
     "output_type": "display_data"
    }
   ],
   "source": [
    "\n",
    "fig, axes = plt.subplots(nrows=2, ncols=10, sharex=True, sharey=True, figsize=(20,4))\n",
    "in_imgs = mnist.test.images[:10]\n",
    "reconstructed = sess.run(decoded, feed_dict={inputs_: in_imgs.reshape((10, 28, 28, 1))})\n",
    "\n",
    "for images, row in zip([in_imgs, reconstructed], axes):\n",
    "    for img, ax in zip(images, row):\n",
    "        ax.imshow(img.reshape((28, 28)), cmap='Greys_r')\n",
    "        ax.get_xaxis().set_visible(False)\n",
    "        ax.get_yaxis().set_visible(False)\n",
    "\n",
    "\n",
    "fig.tight_layout(pad=0.1)"
   ]
  },
  {
   "cell_type": "code",
   "execution_count": 9,
   "metadata": {},
   "outputs": [
    {
     "data": {
      "text/plain": [
       "'1.8.0'"
      ]
     },
     "execution_count": 9,
     "metadata": {},
     "output_type": "execute_result"
    }
   ],
   "source": [
    "tf.__version__\n"
   ]
  },
  {
   "cell_type": "markdown",
   "metadata": {},
   "source": [
    "### Benchmarking\n",
    "\n",
    "| Initializer | optimizer |presion type | epochs | Wall time | loss | Norm\n",
    "|---|---|---|---|\n",
    "|xavier|ADAM|float32|5 epochs|5.50 mins| 0.2372 | No\n",
    "|xavier|ADAM|float32|5 epochs|5.55 mins| 0.2350 | weight\n",
    "|xavier|ADAM|float32|5 epochs|6.22 mins| 0.2850 | wn data dependent\n",
    "\n"
   ]
  },
  {
   "cell_type": "code",
   "execution_count": null,
   "metadata": {},
   "outputs": [],
   "source": []
  }
 ],
 "metadata": {
  "kernelspec": {
   "display_name": "Python 3",
   "language": "python",
   "name": "python3"
  },
  "language_info": {
   "codemirror_mode": {
    "name": "ipython",
    "version": 3
   },
   "file_extension": ".py",
   "mimetype": "text/x-python",
   "name": "python",
   "nbconvert_exporter": "python",
   "pygments_lexer": "ipython3",
   "version": "3.6.4"
  }
 },
 "nbformat": 4,
 "nbformat_minor": 2
}
